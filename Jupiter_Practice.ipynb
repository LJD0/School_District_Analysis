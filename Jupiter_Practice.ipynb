{
 "cells": [
  {
   "cell_type": "code",
   "execution_count": 10,
   "id": "5d1cac32",
   "metadata": {},
   "outputs": [
    {
     "name": "stdout",
     "output_type": "stream",
     "text": [
      "Hernandez High\n",
      "Figueroa High\n",
      "Wilson High\n",
      "Wright High\n"
     ]
    }
   ],
   "source": [
    "high_schools = [\"Hernandez High\", \"Figueroa High\", \"Wilson High\", \"Wright High\"]\n",
    "\n",
    "for i in high_schools:\n",
    "    print(i)"
   ]
  },
  {
   "cell_type": "code",
   "execution_count": 11,
   "id": "97d7f093",
   "metadata": {},
   "outputs": [
    {
     "name": "stdout",
     "output_type": "stream",
     "text": [
      "Griffin\n",
      "District\n",
      "dict_keys(['High School', 'Type'])\n",
      "dict_values(['Griffin', 'District'])\n",
      "Figueroa\n",
      "District\n",
      "dict_keys(['High School', 'Type'])\n",
      "dict_values(['Figueroa', 'District'])\n",
      "Wilson\n",
      "Charter\n",
      "dict_keys(['High School', 'Type'])\n",
      "dict_values(['Wilson', 'Charter'])\n",
      "Wright\n",
      "Charter\n",
      "dict_keys(['High School', 'Type'])\n",
      "dict_values(['Wright', 'Charter'])\n"
     ]
    }
   ],
   "source": [
    "high_school_types = [\n",
    "    {\"High School\": \"Griffin\", \"Type\" : \"District\"},\n",
    "    {\"High School\": \"Figueroa\", \"Type\" : \"District\"},\n",
    "    {\"High School\": \"Wilson\", \"Type\" : \"Charter\"},\n",
    "    {\"High School\": \"Wright\", \"Type\" : \"Charter\"},\n",
    "]\n",
    "itter = range(len(high_school_types))\n",
    "#for i in high_school_types:\n",
    "    #print (i)\n",
    "    #print(i.get(\"High School\"))\n",
    "for i in itter:\n",
    "    school = high_school_types[i][\"High School\"]\n",
    "    types = high_school_types[i][\"Type\"]\n",
    "    keys = high_school_types[i].keys()\n",
    "    val = high_school_types[i].values()\n",
    "    print(f'{school}\\n{types}\\n{keys}\\n{val}')\n",
    "    \n",
    "\n",
    "        "
   ]
  },
  {
   "cell_type": "code",
   "execution_count": 12,
   "id": "92d16b8e",
   "metadata": {},
   "outputs": [],
   "source": [
    "high_schools = [\n",
    "    \"Huang High School\",\n",
    "    \"Figueroa High School\",\n",
    "    \"Shelton High School\",\n",
    "    \"Hernandez High School\",\n",
    "    \"Griffin High School\",\n",
    "    \"Wilson High School\",\n",
    "    \"Cabrera High School\",\n",
    "    \"Bailey High School\",\n",
    "    \"Holden High School\",\n",
    "    \"Pena High School\",\n",
    "    \"Wright High School\",\n",
    "    \"Rodriguez High School\",\n",
    "    \"Johnson High School\",\n",
    "    \"Ford High School\",\n",
    "    \"Thomas High School\"\n",
    "    ]\n",
    "\n"
   ]
  },
  {
   "cell_type": "code",
   "execution_count": 13,
   "id": "a526da4f",
   "metadata": {},
   "outputs": [],
   "source": [
    "import pandas as pd"
   ]
  },
  {
   "cell_type": "code",
   "execution_count": 14,
   "id": "63e664a3",
   "metadata": {},
   "outputs": [],
   "source": [
    "school_series = pd.Series(high_schools)\n",
    "high_school_series = pd.Series(high_school_types)"
   ]
  },
  {
   "cell_type": "code",
   "execution_count": 15,
   "id": "0436ea01",
   "metadata": {},
   "outputs": [
    {
     "name": "stdout",
     "output_type": "stream",
     "text": [
      "Huang High School\n",
      "Figueroa High School\n",
      "Shelton High School\n",
      "Hernandez High School\n",
      "Griffin High School\n",
      "Wilson High School\n",
      "Cabrera High School\n",
      "Bailey High School\n",
      "Holden High School\n",
      "Pena High School\n",
      "Wright High School\n",
      "Rodriguez High School\n",
      "Johnson High School\n",
      "Ford High School\n",
      "Thomas High School\n"
     ]
    }
   ],
   "source": [
    "for i in school_series:\n",
    "    print(i)"
   ]
  },
  {
   "cell_type": "code",
   "execution_count": 9,
   "id": "6ec3cb66",
   "metadata": {},
   "outputs": [
    {
     "name": "stdout",
     "output_type": "stream",
     "text": [
      "Huang High School\n",
      "Figueroa High School\n",
      "Shelton High School\n",
      "Hernandez High School\n",
      "Griffin High School\n",
      "Wilson High School\n",
      "Cabrera High School\n",
      "Bailey High School\n",
      "Holden High School\n",
      "Pena High School\n",
      "Wright High School\n",
      "Rodriguez High School\n",
      "Johnson High School\n",
      "Ford High School\n",
      "Thomas High School\n"
     ]
    }
   ],
   "source": [
    "\n",
    "\n",
    "for i in range(len(school_series)):\n",
    "    print(school_series[i])"
   ]
  },
  {
   "cell_type": "code",
   "execution_count": null,
   "id": "cf987940",
   "metadata": {},
   "outputs": [],
   "source": []
  }
 ],
 "metadata": {
  "kernelspec": {
   "display_name": "Python 3.10.4 64-bit",
   "language": "python",
   "name": "python3"
  },
  "language_info": {
   "codemirror_mode": {
    "name": "ipython",
    "version": 3
   },
   "file_extension": ".py",
   "mimetype": "text/x-python",
   "name": "python",
   "nbconvert_exporter": "python",
   "pygments_lexer": "ipython3",
   "version": "3.10.4"
  },
  "vscode": {
   "interpreter": {
    "hash": "aee8b7b246df8f9039afb4144a1f6fd8d2ca17a180786b69acc140d282b71a49"
   }
  }
 },
 "nbformat": 4,
 "nbformat_minor": 5
}
